{
 "cells": [
  {
   "cell_type": "markdown",
   "id": "83e5a54a-0ebf-4430-8025-fdcdfbfc8ea1",
   "metadata": {},
   "source": [
    "# Data Science Tools and Ecosystem"
   ]
  },
  {
   "cell_type": "markdown",
   "id": "6e30d92b-ebda-4e84-986b-a72f6e000151",
   "metadata": {},
   "source": [
    "In this notebook, Data Science Tools and Ecosystem are summarized. Very valuable test content."
   ]
  },
  {
   "cell_type": "markdown",
   "id": "7ee9a918-150e-46a3-b479-ce00b50781b2",
   "metadata": {},
   "source": [
    "**Objectives:**\n",
    "\n",
    "- List of popular languages that Data Scientists use\n",
    "- List of commonly used libraries used by Data Scientists\n",
    "- Data Science Tools\n",
    "- examples of evaluating arithmetic expressions - arithmetic expression to mutiply then add integers\n",
    "- examples of evaluating arithmetic expressions - convert 200 minutes to hours by diving by 60"
   ]
  },
  {
   "cell_type": "markdown",
   "id": "4b35e5bd-7382-436f-92e1-787b108eae63",
   "metadata": {},
   "source": [
    "## Author\n",
    "\n",
    "Claudio Lorca"
   ]
  },
  {
   "cell_type": "markdown",
   "id": "aae13fe9-906f-4319-bde1-73a39e74a25a",
   "metadata": {},
   "source": [
    "Data Science Languages:\r\n",
    "\r\n",
    "1. Python\r\n",
    "2. R\r\n",
    "3. Julia\r\n",
    "4. SQL\r\n",
    "5. JavaScript\r\n",
    "6. Scala\r\n",
    "7. SAS\r\n",
    "8. MATLAB\r\n",
    "9. Java"
   ]
  },
  {
   "cell_type": "markdown",
   "id": "54771f08-acf2-442b-928c-547cfe166ffd",
   "metadata": {},
   "source": [
    "Data Science Libraries\r\n",
    "\r\n",
    "1. NumPy\r\n",
    "2. Pandas\r\n",
    "3. Matplotlib\r\n",
    "4. SciPy\r\n",
    "5. Scikit-learn\r\n",
    "6. TensorFlow\r\n",
    "7. Keras\r\n",
    "8. PyTorch\r\n",
    "9. Seaborn"
   ]
  },
  {
   "cell_type": "markdown",
   "id": "04756b71-1b7f-4b4c-a8b1-4f9384fdd32f",
   "metadata": {},
   "source": [
    "Data Science Tools |\r\n",
    "-------------------|\r\n",
    "JupyterLab |\r\n",
    "RStudio |\r\n",
    "Apache Zeppelin |"
   ]
  },
  {
   "cell_type": "markdown",
   "id": "47f8ac0e-c0ce-4aa1-a724-4353d32b70fe",
   "metadata": {},
   "source": [
    "### Below are a few examples of evaluating arithmetic expressions in Python."
   ]
  },
  {
   "cell_type": "code",
   "execution_count": 20,
   "id": "48f70678-2854-4f60-9853-22fc5261b59c",
   "metadata": {},
   "outputs": [
    {
     "name": "stdout",
     "output_type": "stream",
     "text": [
      "17\n"
     ]
    }
   ],
   "source": [
    "# This a simple arithmetic expression to mutiply then add integers\n",
    "\n",
    "result = (3 * 4) + 5\n",
    "print(result)"
   ]
  },
  {
   "cell_type": "code",
   "execution_count": 22,
   "id": "7cd52743-f246-4912-b21d-8a2bcff2ae34",
   "metadata": {},
   "outputs": [
    {
     "name": "stdout",
     "output_type": "stream",
     "text": [
      "200 minutes are 3.33 hours.\n"
     ]
    }
   ],
   "source": [
    "# This will convert 200 minutes to hours by diving by 60\n",
    "\n",
    "minutes = 200\n",
    "hours = minutes / 60\n",
    "print(f\"{minutes} minutes are {hours:.2f} hours.\")"
   ]
  }
 ],
 "metadata": {
  "kernelspec": {
   "display_name": "Python 3 (ipykernel)",
   "language": "python",
   "name": "python3"
  },
  "language_info": {
   "codemirror_mode": {
    "name": "ipython",
    "version": 3
   },
   "file_extension": ".py",
   "mimetype": "text/x-python",
   "name": "python",
   "nbconvert_exporter": "python",
   "pygments_lexer": "ipython3",
   "version": "3.12.4"
  }
 },
 "nbformat": 4,
 "nbformat_minor": 5
}
